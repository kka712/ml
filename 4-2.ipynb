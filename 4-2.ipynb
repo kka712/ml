{
 "cells": [
  {
   "cell_type": "markdown",
   "id": "db21aeac-3110-41e6-ba32-dbd22a1c6a7f",
   "metadata": {},
   "source": [
    "# 확률적 경사 하강법\n",
    "\n",
    "- 점진적 학습(온라인 학습) 알고리즘\n",
    "- 확률적이란 말은 무작위하게 / 랜덤하게의 기술적인 표현\n",
    "- 경사는 기울기\n",
    "- 에포크(epoch) : 확률적 경사 하강법에서 훈련 세트를 한 번 모두 사용하는 과정\n",
    "- 미니배치 경사 하강법 : 여러 개의 샘플을 사용해 경사 하강법을 수행하는 방식\n",
    "- 배치 경사 하강법 : 한 번 경사로를 따라 이동하기 위해 전체 샘플을 사용\n",
    "- 신경망 알고리즘에서 꼭 사용하는 알고리즘이 확률적 경사 하강법이나 미니배치 경사 하강법 "
   ]
  },
  {
   "cell_type": "markdown",
   "id": "76331360-1427-467e-9000-b2379d363cde",
   "metadata": {},
   "source": [
    "### 손실 함수 (실패율)\n",
    "\n",
    "- 머신러닝 알고리즘이 얼마나 엉터리인지를 측정하는 기준\n",
    "- 손실 함수를 작게 유지하는게 목표\n",
    "- 확률적 경사 하강법이 최적화할 대상\n",
    "\n",
    "### 로지스틱 손실 함수 (이진 크로스엔트로피 손실 함수)\n",
    "\n",
    "- 이진 분류에 사용\n",
    "- 다중 분류에는 크로스엔트로피 손실 함수를 사용\n",
    "- 회귀 문제에는 평군 제곱 오차 손실 함수를 사용"
   ]
  },
  {
   "cell_type": "code",
   "execution_count": 2,
   "id": "10a023d0-74c9-486d-a7a9-12cf364c694a",
   "metadata": {},
   "outputs": [],
   "source": [
    "import pandas as pd\n",
    "\n",
    "df = pd.read_csv('data/Fish.csv')"
   ]
  },
  {
   "cell_type": "code",
   "execution_count": 3,
   "id": "c7b8e2db-dd36-4b7b-b49f-dbe756253925",
   "metadata": {},
   "outputs": [],
   "source": [
    "fish_input = df[['Weight', 'Length2', 'Length3', 'Height', 'Width']]\n",
    "fish_target = df[['Species']]"
   ]
  },
  {
   "cell_type": "code",
   "execution_count": 4,
   "id": "b35480b3-c958-4938-97d4-12bc8320dafc",
   "metadata": {},
   "outputs": [],
   "source": [
    "from sklearn.model_selection import train_test_split\n",
    "\n",
    "train_input, test_input, train_target, test_target = train_test_split(fish_input, fish_target)"
   ]
  },
  {
   "cell_type": "code",
   "execution_count": 5,
   "id": "9af9c6be-71d9-441c-99af-a6728eee94e9",
   "metadata": {},
   "outputs": [],
   "source": [
    "from sklearn.preprocessing import StandardScaler\n",
    "\n",
    "ss = StandardScaler()\n",
    "ss.fit(train_input)\n",
    "train_scaled = ss.transform(train_input)\n",
    "test_scaled = ss.transform(test_input)"
   ]
  },
  {
   "cell_type": "code",
   "execution_count": 6,
   "id": "004ec8c9-1fb9-433e-981d-c82573c79bb6",
   "metadata": {},
   "outputs": [
    {
     "name": "stdout",
     "output_type": "stream",
     "text": [
      "0.865546218487395\n",
      "0.95\n"
     ]
    },
    {
     "name": "stderr",
     "output_type": "stream",
     "text": [
      "C:\\Users\\1-03\\Desktop\\DAMF2\\ml\\venv\\Lib\\site-packages\\sklearn\\utils\\validation.py:1408: DataConversionWarning: A column-vector y was passed when a 1d array was expected. Please change the shape of y to (n_samples, ), for example using ravel().\n",
      "  y = column_or_1d(y, warn=True)\n",
      "C:\\Users\\1-03\\Desktop\\DAMF2\\ml\\venv\\Lib\\site-packages\\sklearn\\linear_model\\_stochastic_gradient.py:738: ConvergenceWarning: Maximum number of iteration reached before convergence. Consider increasing max_iter to improve the fit.\n",
      "  warnings.warn(\n"
     ]
    }
   ],
   "source": [
    "from sklearn.linear_model import SGDClassifier\n",
    "\n",
    "sc = SGDClassifier(loss='log_loss', max_iter=10)\n",
    "# max_iter => 수행할 에포크 횟수를 지정\n",
    "sc.fit(train_scaled, train_target)\n",
    "\n",
    "print(sc.score(train_scaled, train_target))\n",
    "print(sc.score(test_scaled, test_target))"
   ]
  },
  {
   "cell_type": "code",
   "execution_count": 7,
   "id": "a0d386a9-7f0b-40fd-b56a-30e4f559668b",
   "metadata": {},
   "outputs": [
    {
     "name": "stdout",
     "output_type": "stream",
     "text": [
      "0.7226890756302521\n",
      "0.8\n"
     ]
    },
    {
     "name": "stderr",
     "output_type": "stream",
     "text": [
      "C:\\Users\\1-03\\Desktop\\DAMF2\\ml\\venv\\Lib\\site-packages\\sklearn\\utils\\validation.py:1408: DataConversionWarning: A column-vector y was passed when a 1d array was expected. Please change the shape of y to (n_samples, ), for example using ravel().\n",
      "  y = column_or_1d(y, warn=True)\n"
     ]
    }
   ],
   "source": [
    "sc.partial_fit(train_scaled, train_target)\n",
    "print(sc.score(train_scaled, train_target))\n",
    "print(sc.score(test_scaled, test_target))"
   ]
  },
  {
   "cell_type": "markdown",
   "id": "29c8bc56-8da8-45ec-8775-998a5c8dfd58",
   "metadata": {},
   "source": [
    "### 에포크와 과대 / 과소적합\n",
    "\n",
    "- 에포크 횟수 적으면 모델이 훈련 세트를 덜 학습함 -> 과소적합\n",
    "- 에포크 횟수 많으면 훈련 세트에 너무 잘 맞음 -> 과대적합\n",
    "- 과대적합이 시작하기 전에 훈련을 멈추는 것을 `조기종료`라고 함"
   ]
  },
  {
   "cell_type": "code",
   "execution_count": null,
   "id": "be931163-c091-469e-9e16-2c7b413ece8f",
   "metadata": {},
   "outputs": [],
   "source": []
  },
  {
   "cell_type": "code",
   "execution_count": null,
   "id": "f659ed46-c7ed-4f41-b39a-f7aa6f0aea7a",
   "metadata": {},
   "outputs": [],
   "source": []
  },
  {
   "cell_type": "code",
   "execution_count": null,
   "id": "9ca6117a-5d3a-45c0-b4fe-185d62c81977",
   "metadata": {},
   "outputs": [],
   "source": []
  },
  {
   "cell_type": "code",
   "execution_count": null,
   "id": "683917a9-b381-4a64-8928-a05b8979cb52",
   "metadata": {},
   "outputs": [],
   "source": []
  },
  {
   "cell_type": "code",
   "execution_count": null,
   "id": "7052f38a-1f61-4c81-905c-e20690338ac7",
   "metadata": {},
   "outputs": [],
   "source": []
  }
 ],
 "metadata": {
  "kernelspec": {
   "display_name": "Python 3 (ipykernel)",
   "language": "python",
   "name": "python3"
  },
  "language_info": {
   "codemirror_mode": {
    "name": "ipython",
    "version": 3
   },
   "file_extension": ".py",
   "mimetype": "text/x-python",
   "name": "python",
   "nbconvert_exporter": "python",
   "pygments_lexer": "ipython3",
   "version": "3.13.2"
  }
 },
 "nbformat": 4,
 "nbformat_minor": 5
}
