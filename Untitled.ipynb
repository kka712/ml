{
 "cells": [
  {
   "cell_type": "code",
   "execution_count": 1,
   "id": "596b0ac0-7d49-49b2-898a-bae11dbd12f2",
   "metadata": {},
   "outputs": [],
   "source": [
    "import numpy as np \n",
    "import pandas as pd\n",
    "\n",
    "test =pd.read_csv('data/test.csv')\n",
    "train = pd.read_csv('data/train.csv')"
   ]
  },
  {
   "cell_type": "code",
   "execution_count": 2,
   "id": "0396bc43-8613-4620-b7bd-5bb637904f9a",
   "metadata": {
    "scrolled": true
   },
   "outputs": [
    {
     "data": {
      "text/plain": [
       "Cabin\n",
       "G6             4\n",
       "C23 C25 C27    4\n",
       "B96 B98        4\n",
       "F2             3\n",
       "D              3\n",
       "              ..\n",
       "E17            1\n",
       "A24            1\n",
       "C50            1\n",
       "B42            1\n",
       "C148           1\n",
       "Name: count, Length: 147, dtype: int64"
      ]
     },
     "execution_count": 2,
     "metadata": {},
     "output_type": "execute_result"
    }
   ],
   "source": [
    "train['Cabin'].value_counts()"
   ]
  },
  {
   "cell_type": "code",
   "execution_count": 3,
   "id": "6626fd0d-bf07-4409-b181-7ae984f3861a",
   "metadata": {},
   "outputs": [],
   "source": [
    "train['CabinBool'] = train['Cabin'].notnull().astype(int)\n",
    "\n",
    "\n",
    "train['Grade'] = train['Cabin'].str[0]  \n",
    "train['Grade'] = train['Grade'].fillna('Unknown')  \n"
   ]
  },
  {
   "cell_type": "code",
   "execution_count": 4,
   "id": "2a40251d-ebab-4b8e-9bd4-9589d4ffde35",
   "metadata": {
    "scrolled": true
   },
   "outputs": [],
   "source": [
    "from sklearn.preprocessing import LabelEncoder\n",
    "\n",
    "encoder = LabelEncoder()\n",
    "train['Grade'] = encoder.fit_transform(train['Grade'])"
   ]
  },
  {
   "cell_type": "code",
   "execution_count": 5,
   "id": "f6353326-c859-4df5-b1a2-de2524fc2e10",
   "metadata": {},
   "outputs": [],
   "source": [
    "train['FamilySize'] = train['SibSp'] + train['Parch'] + 1"
   ]
  },
  {
   "cell_type": "code",
   "execution_count": 6,
   "id": "1f728dc0-b63e-4948-9d45-72dc764363df",
   "metadata": {},
   "outputs": [
    {
     "name": "stdout",
     "output_type": "stream",
     "text": [
      "77.9583\n"
     ]
    }
   ],
   "source": [
    "# def categorize_fare(fare):\n",
    "    # if age < 15:\n",
    "    #     return 'Child'\n",
    "    # elif age < 20:\n",
    "    #     return 'Teen'\n",
    "    # elif age < 44:\n",
    "    #     return 'Adult'\n",
    "    # else:\n",
    "    #     return 'Senior'\n",
    "\n",
    "# train['AgeGroup'] = train['Age'].apply(categorize_age)\n",
    "\n",
    "# train = pd.get_dummies(train, columns=['AgeGroup'], prefix='Age')\n",
    "\n",
    "rich = train['Fare'].quantile(0.9)\n",
    "print(rich)"
   ]
  },
  {
   "cell_type": "code",
   "execution_count": 7,
   "id": "ef032358-c616-44c4-b186-e4764753c98c",
   "metadata": {},
   "outputs": [],
   "source": [
    "train = pd.get_dummies(train, columns=['Sex'])"
   ]
  },
  {
   "cell_type": "code",
   "execution_count": 8,
   "id": "7037dc78-ee22-4b0a-ab9c-8b700dfdf3ca",
   "metadata": {
    "scrolled": true
   },
   "outputs": [
    {
     "data": {
      "text/html": [
       "<div>\n",
       "<style scoped>\n",
       "    .dataframe tbody tr th:only-of-type {\n",
       "        vertical-align: middle;\n",
       "    }\n",
       "\n",
       "    .dataframe tbody tr th {\n",
       "        vertical-align: top;\n",
       "    }\n",
       "\n",
       "    .dataframe thead th {\n",
       "        text-align: right;\n",
       "    }\n",
       "</style>\n",
       "<table border=\"1\" class=\"dataframe\">\n",
       "  <thead>\n",
       "    <tr style=\"text-align: right;\">\n",
       "      <th></th>\n",
       "      <th>PassengerId</th>\n",
       "      <th>Survived</th>\n",
       "      <th>Pclass</th>\n",
       "      <th>Name</th>\n",
       "      <th>Age</th>\n",
       "      <th>SibSp</th>\n",
       "      <th>Parch</th>\n",
       "      <th>Ticket</th>\n",
       "      <th>Fare</th>\n",
       "      <th>Cabin</th>\n",
       "      <th>Embarked</th>\n",
       "      <th>CabinBool</th>\n",
       "      <th>Grade</th>\n",
       "      <th>FamilySize</th>\n",
       "      <th>Sex_female</th>\n",
       "      <th>Sex_male</th>\n",
       "    </tr>\n",
       "  </thead>\n",
       "  <tbody>\n",
       "    <tr>\n",
       "      <th>0</th>\n",
       "      <td>1</td>\n",
       "      <td>0</td>\n",
       "      <td>3</td>\n",
       "      <td>Braund, Mr. Owen Harris</td>\n",
       "      <td>22.0</td>\n",
       "      <td>1</td>\n",
       "      <td>0</td>\n",
       "      <td>A/5 21171</td>\n",
       "      <td>7.2500</td>\n",
       "      <td>NaN</td>\n",
       "      <td>S</td>\n",
       "      <td>0</td>\n",
       "      <td>8</td>\n",
       "      <td>2</td>\n",
       "      <td>False</td>\n",
       "      <td>True</td>\n",
       "    </tr>\n",
       "    <tr>\n",
       "      <th>1</th>\n",
       "      <td>2</td>\n",
       "      <td>1</td>\n",
       "      <td>1</td>\n",
       "      <td>Cumings, Mrs. John Bradley (Florence Briggs Th...</td>\n",
       "      <td>38.0</td>\n",
       "      <td>1</td>\n",
       "      <td>0</td>\n",
       "      <td>PC 17599</td>\n",
       "      <td>71.2833</td>\n",
       "      <td>C85</td>\n",
       "      <td>C</td>\n",
       "      <td>1</td>\n",
       "      <td>2</td>\n",
       "      <td>2</td>\n",
       "      <td>True</td>\n",
       "      <td>False</td>\n",
       "    </tr>\n",
       "    <tr>\n",
       "      <th>2</th>\n",
       "      <td>3</td>\n",
       "      <td>1</td>\n",
       "      <td>3</td>\n",
       "      <td>Heikkinen, Miss. Laina</td>\n",
       "      <td>26.0</td>\n",
       "      <td>0</td>\n",
       "      <td>0</td>\n",
       "      <td>STON/O2. 3101282</td>\n",
       "      <td>7.9250</td>\n",
       "      <td>NaN</td>\n",
       "      <td>S</td>\n",
       "      <td>0</td>\n",
       "      <td>8</td>\n",
       "      <td>1</td>\n",
       "      <td>True</td>\n",
       "      <td>False</td>\n",
       "    </tr>\n",
       "    <tr>\n",
       "      <th>3</th>\n",
       "      <td>4</td>\n",
       "      <td>1</td>\n",
       "      <td>1</td>\n",
       "      <td>Futrelle, Mrs. Jacques Heath (Lily May Peel)</td>\n",
       "      <td>35.0</td>\n",
       "      <td>1</td>\n",
       "      <td>0</td>\n",
       "      <td>113803</td>\n",
       "      <td>53.1000</td>\n",
       "      <td>C123</td>\n",
       "      <td>S</td>\n",
       "      <td>1</td>\n",
       "      <td>2</td>\n",
       "      <td>2</td>\n",
       "      <td>True</td>\n",
       "      <td>False</td>\n",
       "    </tr>\n",
       "    <tr>\n",
       "      <th>4</th>\n",
       "      <td>5</td>\n",
       "      <td>0</td>\n",
       "      <td>3</td>\n",
       "      <td>Allen, Mr. William Henry</td>\n",
       "      <td>35.0</td>\n",
       "      <td>0</td>\n",
       "      <td>0</td>\n",
       "      <td>373450</td>\n",
       "      <td>8.0500</td>\n",
       "      <td>NaN</td>\n",
       "      <td>S</td>\n",
       "      <td>0</td>\n",
       "      <td>8</td>\n",
       "      <td>1</td>\n",
       "      <td>False</td>\n",
       "      <td>True</td>\n",
       "    </tr>\n",
       "  </tbody>\n",
       "</table>\n",
       "</div>"
      ],
      "text/plain": [
       "   PassengerId  Survived  Pclass  \\\n",
       "0            1         0       3   \n",
       "1            2         1       1   \n",
       "2            3         1       3   \n",
       "3            4         1       1   \n",
       "4            5         0       3   \n",
       "\n",
       "                                                Name   Age  SibSp  Parch  \\\n",
       "0                            Braund, Mr. Owen Harris  22.0      1      0   \n",
       "1  Cumings, Mrs. John Bradley (Florence Briggs Th...  38.0      1      0   \n",
       "2                             Heikkinen, Miss. Laina  26.0      0      0   \n",
       "3       Futrelle, Mrs. Jacques Heath (Lily May Peel)  35.0      1      0   \n",
       "4                           Allen, Mr. William Henry  35.0      0      0   \n",
       "\n",
       "             Ticket     Fare Cabin Embarked  CabinBool  Grade  FamilySize  \\\n",
       "0         A/5 21171   7.2500   NaN        S          0      8           2   \n",
       "1          PC 17599  71.2833   C85        C          1      2           2   \n",
       "2  STON/O2. 3101282   7.9250   NaN        S          0      8           1   \n",
       "3            113803  53.1000  C123        S          1      2           2   \n",
       "4            373450   8.0500   NaN        S          0      8           1   \n",
       "\n",
       "   Sex_female  Sex_male  \n",
       "0       False      True  \n",
       "1        True     False  \n",
       "2        True     False  \n",
       "3        True     False  \n",
       "4       False      True  "
      ]
     },
     "execution_count": 8,
     "metadata": {},
     "output_type": "execute_result"
    }
   ],
   "source": [
    "train.head()"
   ]
  },
  {
   "cell_type": "code",
   "execution_count": 10,
   "id": "fddf80a1-58bf-47f0-bcc1-39fa5420d40f",
   "metadata": {},
   "outputs": [],
   "source": [
    "train_input = train[['Pclass', 'Age', 'Fare', 'CabinBool', 'Grade', 'FamilySize','Sex_female', 'Sex_male' ]]"
   ]
  },
  {
   "cell_type": "code",
   "execution_count": 11,
   "id": "546243ca-bbe5-4008-98a0-1b64da7dba8b",
   "metadata": {},
   "outputs": [],
   "source": [
    "train_target = train[['Survived']]"
   ]
  },
  {
   "cell_type": "code",
   "execution_count": 12,
   "id": "77eed1d1-3fb7-4e21-a31c-effb70cbf905",
   "metadata": {},
   "outputs": [
    {
     "name": "stdout",
     "output_type": "stream",
     "text": [
      "<class 'pandas.core.frame.DataFrame'>\n",
      "RangeIndex: 891 entries, 0 to 890\n",
      "Data columns (total 8 columns):\n",
      " #   Column      Non-Null Count  Dtype  \n",
      "---  ------      --------------  -----  \n",
      " 0   Pclass      891 non-null    int64  \n",
      " 1   Age         714 non-null    float64\n",
      " 2   Fare        891 non-null    float64\n",
      " 3   CabinBool   891 non-null    int64  \n",
      " 4   Grade       891 non-null    int64  \n",
      " 5   FamilySize  891 non-null    int64  \n",
      " 6   Sex_female  891 non-null    bool   \n",
      " 7   Sex_male    891 non-null    bool   \n",
      "dtypes: bool(2), float64(2), int64(4)\n",
      "memory usage: 43.6 KB\n"
     ]
    }
   ],
   "source": [
    "train_input.info()"
   ]
  },
  {
   "cell_type": "code",
   "execution_count": 13,
   "id": "e3997fe4-85e6-48aa-8bff-a820bfdbb40f",
   "metadata": {},
   "outputs": [
    {
     "name": "stderr",
     "output_type": "stream",
     "text": [
      "C:\\Users\\1-03\\AppData\\Local\\Temp\\ipykernel_10100\\53076346.py:1: SettingWithCopyWarning: \n",
      "A value is trying to be set on a copy of a slice from a DataFrame.\n",
      "Try using .loc[row_indexer,col_indexer] = value instead\n",
      "\n",
      "See the caveats in the documentation: https://pandas.pydata.org/pandas-docs/stable/user_guide/indexing.html#returning-a-view-versus-a-copy\n",
      "  train_input['Age'] = train_input['Age'].fillna(train_input['Age'].median())\n"
     ]
    }
   ],
   "source": [
    "train_input['Age'] = train_input['Age'].fillna(train_input['Age'].median())   "
   ]
  },
  {
   "cell_type": "code",
   "execution_count": 14,
   "id": "957c5d61-8ac2-49a9-b6b6-3f89f83af980",
   "metadata": {},
   "outputs": [],
   "source": [
    "test['Age'] = test['Age'].fillna(test['Age'].median())\n",
    "test['Fare'] = test['Fare'].fillna(test['Fare'].median())"
   ]
  },
  {
   "cell_type": "code",
   "execution_count": 18,
   "id": "0620bb1b-de18-4e9c-af4e-8cc92063e4e1",
   "metadata": {},
   "outputs": [],
   "source": [
    "test['CabinBool'] = test['Cabin'].notnull().astype(int)\n",
    "\n",
    "\n",
    "test['Grade'] = test['Cabin'].str[0]  \n",
    "test['Grade'] = test['Grade'].fillna('Unknown')  \n",
    "\n",
    "test['Grade'] = encoder.fit_transform(test['Grade'])\n",
    "\n",
    "test['FamilySize'] = test['SibSp'] + test['Parch'] + 1\n",
    "\n",
    "# test['AgeGroup'] = test['Age'].apply(categorize_age)\n",
    "\n",
    "# test = pd.get_dummies(test, columns=['AgeGroup'], prefix='Age')\n",
    "test = pd.get_dummies(test, columns=['Sex'])\n",
    "\n",
    "test_input = test[['Pclass', 'Age', 'Fare', 'CabinBool', 'Grade', 'FamilySize','Sex_female', 'Sex_male' ]]"
   ]
  },
  {
   "cell_type": "code",
   "execution_count": 16,
   "id": "85b46efa-5daf-4dfc-9f15-2cdc6f5960e6",
   "metadata": {},
   "outputs": [
    {
     "name": "stdout",
     "output_type": "stream",
     "text": [
      "{'fit_time': array([1.55233741, 1.62388396, 1.5849576 , 1.58821535, 1.49909329]), 'score_time': array([0.07878041, 0.06105947, 0.07967329, 0.07315922, 0.05721641]), 'test_score': array([0.77094972, 0.82022472, 0.81460674, 0.79775281, 0.82022472]), 'train_score': array([0.8244382 , 0.81907433, 0.81767181, 0.82187938, 0.81626928])}\n"
     ]
    }
   ],
   "source": [
    "from sklearn.ensemble import RandomForestClassifier\n",
    "from sklearn.model_selection import cross_validate\n",
    "rf = RandomForestClassifier(n_estimators=500, max_depth=3, random_state=1)\n",
    "scores_rf = cross_validate(\n",
    "    rf, train_input, train_target,\n",
    "    return_train_score=True, n_jobs=-1)\n",
    "print(scores_rf)"
   ]
  },
  {
   "cell_type": "code",
   "execution_count": 19,
   "id": "92759985-5b8e-4a0b-a61d-76d330f1dba2",
   "metadata": {},
   "outputs": [
    {
     "name": "stderr",
     "output_type": "stream",
     "text": [
      "C:\\Users\\1-03\\Desktop\\DAMF2\\ml\\venv\\Lib\\site-packages\\sklearn\\base.py:1389: DataConversionWarning: A column-vector y was passed when a 1d array was expected. Please change the shape of y to (n_samples,), for example using ravel().\n",
      "  return fit_method(estimator, *args, **kwargs)\n"
     ]
    },
    {
     "name": "stdout",
     "output_type": "stream",
     "text": [
      "[0.09311944 0.04454018 0.08802011 0.05726822 0.08220948 0.04455277\n",
      " 0.30601445 0.28427535]\n"
     ]
    }
   ],
   "source": [
    "rf.fit(train_input, train_target)\n",
    "print(rf.feature_importances_)"
   ]
  },
  {
   "cell_type": "code",
   "execution_count": 20,
   "id": "24e35499-10cc-4bab-b852-5c678c3ff10d",
   "metadata": {},
   "outputs": [
    {
     "name": "stderr",
     "output_type": "stream",
     "text": [
      "C:\\Users\\1-03\\Desktop\\DAMF2\\ml\\venv\\Lib\\site-packages\\sklearn\\base.py:1389: DataConversionWarning: A column-vector y was passed when a 1d array was expected. Please change the shape of y to (n_samples,), for example using ravel().\n",
      "  return fit_method(estimator, *args, **kwargs)\n"
     ]
    },
    {
     "name": "stdout",
     "output_type": "stream",
     "text": [
      "Your submission was successfully saved!\n"
     ]
    }
   ],
   "source": [
    "rf.fit(train_input, train_target)\n",
    "predictions = rf.predict(test_input)\n",
    "\n",
    "\n",
    "output = pd.DataFrame({'PassengerId': test.PassengerId, 'Survived': predictions})\n",
    "output.to_csv('submission.csv', index=False)\n",
    "print(\"Your submission was successfully saved!\")"
   ]
  },
  {
   "cell_type": "code",
   "execution_count": null,
   "id": "0432dca4-0682-432a-980c-2aaf3f9e46e5",
   "metadata": {},
   "outputs": [],
   "source": []
  },
  {
   "cell_type": "code",
   "execution_count": null,
   "id": "14b3880b-e319-4539-b657-4142ceb57600",
   "metadata": {},
   "outputs": [],
   "source": []
  },
  {
   "cell_type": "code",
   "execution_count": null,
   "id": "bb7a9ab1-19cd-4735-87fe-9db279d5b241",
   "metadata": {},
   "outputs": [],
   "source": []
  },
  {
   "cell_type": "code",
   "execution_count": null,
   "id": "39aebce1-83ca-4861-a57b-4eccbc061950",
   "metadata": {},
   "outputs": [],
   "source": []
  },
  {
   "cell_type": "code",
   "execution_count": null,
   "id": "2bd1f5b8-0d1b-4c0c-8f62-f013ca4ff058",
   "metadata": {},
   "outputs": [],
   "source": []
  }
 ],
 "metadata": {
  "kernelspec": {
   "display_name": "Python 3 (ipykernel)",
   "language": "python",
   "name": "python3"
  },
  "language_info": {
   "codemirror_mode": {
    "name": "ipython",
    "version": 3
   },
   "file_extension": ".py",
   "mimetype": "text/x-python",
   "name": "python",
   "nbconvert_exporter": "python",
   "pygments_lexer": "ipython3",
   "version": "3.13.2"
  }
 },
 "nbformat": 4,
 "nbformat_minor": 5
}
